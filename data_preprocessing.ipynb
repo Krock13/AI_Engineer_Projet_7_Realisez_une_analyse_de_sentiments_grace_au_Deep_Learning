{
 "cells": [
  {
   "cell_type": "markdown",
   "metadata": {},
   "source": [
    "**Table of contents**<a id='toc0_'></a>    \n",
    "- 1. [Préparation des Données pour l'Analyse de Sentiment](#toc1_)    \n",
    "  - 1.1. [Introduction](#toc1_1_)    \n",
    "    - 1.1.1. [Objectifs du Notebook](#toc1_1_1_)    \n",
    "    - 1.1.2. [Contenu du Notebook](#toc1_1_2_)    \n",
    "  - 1.2. [Préparation de la Variable Cible (`sentiment`)](#toc1_2_)    \n",
    "  - 1.3. [Nettoyage des Tweets](#toc1_3_)    \n",
    "  - 1.4. [Lemmatisation et Suppression des Stopwords](#toc1_4_)    \n",
    "  - 1.5. [Filtrage et Sauvegarde des Données Prétraitées](#toc1_5_)    \n",
    "\n",
    "<!-- vscode-jupyter-toc-config\n",
    "\tnumbering=true\n",
    "\tanchor=true\n",
    "\tflat=false\n",
    "\tminLevel=1\n",
    "\tmaxLevel=6\n",
    "\t/vscode-jupyter-toc-config -->\n",
    "<!-- THIS CELL WILL BE REPLACED ON TOC UPDATE. DO NOT WRITE YOUR TEXT IN THIS CELL -->"
   ]
  },
  {
   "cell_type": "markdown",
   "metadata": {},
   "source": [
    "# 1. <a id='toc1_'></a>[Préparation des Données pour l'Analyse de Sentiment](#toc0_)\n",
    "\n",
    "## 1.1. <a id='toc1_1_'></a>[Introduction](#toc0_)\n",
    "\n",
    "Ce notebook est consacré à la **préparation des données** pour un projet d'analyse de sentiment sur des tweets. L'objectif est de transformer les données brutes en un format propre et prêt pour l'entraînement de modèles de machine learning.\n",
    "\n",
    "### 1.1.1. <a id='toc1_1_1_'></a>[Objectifs du Notebook](#toc0_)\n",
    "1. Charger le dataset brut de tweets.\n",
    "2. Appliquer un **prétraitement approfondi** pour nettoyer et normaliser le texte.\n",
    "3. **Enregistrer** les données nettoyées dans un format exploitable pour les futurs notebooks de modélisation.\n",
    "\n",
    "### 1.1.2. <a id='toc1_1_2_'></a>[Contenu du Notebook](#toc0_)\n",
    "Ce notebook est structuré en plusieurs étapes :\n",
    "- **Chargement des Données Brutes** : Importation du dataset depuis sa source d'origine.\n",
    "- **Nettoyage des Données** : Suppression des éléments non pertinents, comme les mentions et les URLs, uniformisation de la casse, et élimination des stopwords.\n",
    "- **Enregistrement des Données Préparées** : Sauvegarde du dataset nettoyé pour une utilisation future dans les notebooks de modélisation."
   ]
  },
  {
   "cell_type": "code",
   "execution_count": null,
   "metadata": {},
   "outputs": [],
   "source": [
    "# Importer les bibliothèques principales\n",
    "import pandas as pd\n",
    "import re\n",
    "\n",
    "# Importer les bibliothèques de visualisation\n",
    "import matplotlib.pyplot as plt\n",
    "\n",
    "# Importer les bibliothèques de traitement du langage naturel (NLP)\n",
    "import nltk\n",
    "from nltk.corpus import stopwords\n",
    "from nltk.stem import WordNetLemmatizer\n",
    "\n",
    "# Télécharger les ressources nécessaires pour NLTK\n",
    "nltk.download('stopwords')\n",
    "nltk.download('wordnet')"
   ]
  },
  {
   "cell_type": "code",
   "execution_count": 2,
   "metadata": {},
   "outputs": [
    {
     "data": {
      "text/html": [
       "<div>\n",
       "<style scoped>\n",
       "    .dataframe tbody tr th:only-of-type {\n",
       "        vertical-align: middle;\n",
       "    }\n",
       "\n",
       "    .dataframe tbody tr th {\n",
       "        vertical-align: top;\n",
       "    }\n",
       "\n",
       "    .dataframe thead th {\n",
       "        text-align: right;\n",
       "    }\n",
       "</style>\n",
       "<table border=\"1\" class=\"dataframe\">\n",
       "  <thead>\n",
       "    <tr style=\"text-align: right;\">\n",
       "      <th></th>\n",
       "      <th>0</th>\n",
       "      <th>1</th>\n",
       "      <th>2</th>\n",
       "      <th>3</th>\n",
       "      <th>4</th>\n",
       "      <th>5</th>\n",
       "    </tr>\n",
       "  </thead>\n",
       "  <tbody>\n",
       "    <tr>\n",
       "      <th>0</th>\n",
       "      <td>0</td>\n",
       "      <td>1467810369</td>\n",
       "      <td>Mon Apr 06 22:19:45 PDT 2009</td>\n",
       "      <td>NO_QUERY</td>\n",
       "      <td>_TheSpecialOne_</td>\n",
       "      <td>@switchfoot http://twitpic.com/2y1zl - Awww, t...</td>\n",
       "    </tr>\n",
       "    <tr>\n",
       "      <th>1</th>\n",
       "      <td>0</td>\n",
       "      <td>1467810672</td>\n",
       "      <td>Mon Apr 06 22:19:49 PDT 2009</td>\n",
       "      <td>NO_QUERY</td>\n",
       "      <td>scotthamilton</td>\n",
       "      <td>is upset that he can't update his Facebook by ...</td>\n",
       "    </tr>\n",
       "    <tr>\n",
       "      <th>2</th>\n",
       "      <td>0</td>\n",
       "      <td>1467810917</td>\n",
       "      <td>Mon Apr 06 22:19:53 PDT 2009</td>\n",
       "      <td>NO_QUERY</td>\n",
       "      <td>mattycus</td>\n",
       "      <td>@Kenichan I dived many times for the ball. Man...</td>\n",
       "    </tr>\n",
       "    <tr>\n",
       "      <th>3</th>\n",
       "      <td>0</td>\n",
       "      <td>1467811184</td>\n",
       "      <td>Mon Apr 06 22:19:57 PDT 2009</td>\n",
       "      <td>NO_QUERY</td>\n",
       "      <td>ElleCTF</td>\n",
       "      <td>my whole body feels itchy and like its on fire</td>\n",
       "    </tr>\n",
       "    <tr>\n",
       "      <th>4</th>\n",
       "      <td>0</td>\n",
       "      <td>1467811193</td>\n",
       "      <td>Mon Apr 06 22:19:57 PDT 2009</td>\n",
       "      <td>NO_QUERY</td>\n",
       "      <td>Karoli</td>\n",
       "      <td>@nationwideclass no, it's not behaving at all....</td>\n",
       "    </tr>\n",
       "  </tbody>\n",
       "</table>\n",
       "</div>"
      ],
      "text/plain": [
       "   0           1                             2         3                4  \\\n",
       "0  0  1467810369  Mon Apr 06 22:19:45 PDT 2009  NO_QUERY  _TheSpecialOne_   \n",
       "1  0  1467810672  Mon Apr 06 22:19:49 PDT 2009  NO_QUERY    scotthamilton   \n",
       "2  0  1467810917  Mon Apr 06 22:19:53 PDT 2009  NO_QUERY         mattycus   \n",
       "3  0  1467811184  Mon Apr 06 22:19:57 PDT 2009  NO_QUERY          ElleCTF   \n",
       "4  0  1467811193  Mon Apr 06 22:19:57 PDT 2009  NO_QUERY           Karoli   \n",
       "\n",
       "                                                   5  \n",
       "0  @switchfoot http://twitpic.com/2y1zl - Awww, t...  \n",
       "1  is upset that he can't update his Facebook by ...  \n",
       "2  @Kenichan I dived many times for the ball. Man...  \n",
       "3    my whole body feels itchy and like its on fire   \n",
       "4  @nationwideclass no, it's not behaving at all....  "
      ]
     },
     "execution_count": 2,
     "metadata": {},
     "output_type": "execute_result"
    }
   ],
   "source": [
    "# Charger les données\n",
    "data_path = 'data/training.1600000.processed.noemoticon.csv'\n",
    "df = pd.read_csv(data_path, encoding='ISO-8859-1', header=None)\n",
    "\n",
    "df.head()"
   ]
  },
  {
   "cell_type": "code",
   "execution_count": 3,
   "metadata": {},
   "outputs": [],
   "source": [
    "df.columns = ['sentiment', 'id', 'date', 'query', 'user', 'text']"
   ]
  },
  {
   "cell_type": "code",
   "execution_count": 4,
   "metadata": {},
   "outputs": [
    {
     "data": {
      "text/html": [
       "<div>\n",
       "<style scoped>\n",
       "    .dataframe tbody tr th:only-of-type {\n",
       "        vertical-align: middle;\n",
       "    }\n",
       "\n",
       "    .dataframe tbody tr th {\n",
       "        vertical-align: top;\n",
       "    }\n",
       "\n",
       "    .dataframe thead th {\n",
       "        text-align: right;\n",
       "    }\n",
       "</style>\n",
       "<table border=\"1\" class=\"dataframe\">\n",
       "  <thead>\n",
       "    <tr style=\"text-align: right;\">\n",
       "      <th></th>\n",
       "      <th>sentiment</th>\n",
       "      <th>id</th>\n",
       "      <th>date</th>\n",
       "      <th>query</th>\n",
       "      <th>user</th>\n",
       "      <th>text</th>\n",
       "    </tr>\n",
       "  </thead>\n",
       "  <tbody>\n",
       "    <tr>\n",
       "      <th>0</th>\n",
       "      <td>0</td>\n",
       "      <td>1467810369</td>\n",
       "      <td>Mon Apr 06 22:19:45 PDT 2009</td>\n",
       "      <td>NO_QUERY</td>\n",
       "      <td>_TheSpecialOne_</td>\n",
       "      <td>@switchfoot http://twitpic.com/2y1zl - Awww, t...</td>\n",
       "    </tr>\n",
       "    <tr>\n",
       "      <th>1</th>\n",
       "      <td>0</td>\n",
       "      <td>1467810672</td>\n",
       "      <td>Mon Apr 06 22:19:49 PDT 2009</td>\n",
       "      <td>NO_QUERY</td>\n",
       "      <td>scotthamilton</td>\n",
       "      <td>is upset that he can't update his Facebook by ...</td>\n",
       "    </tr>\n",
       "    <tr>\n",
       "      <th>2</th>\n",
       "      <td>0</td>\n",
       "      <td>1467810917</td>\n",
       "      <td>Mon Apr 06 22:19:53 PDT 2009</td>\n",
       "      <td>NO_QUERY</td>\n",
       "      <td>mattycus</td>\n",
       "      <td>@Kenichan I dived many times for the ball. Man...</td>\n",
       "    </tr>\n",
       "    <tr>\n",
       "      <th>3</th>\n",
       "      <td>0</td>\n",
       "      <td>1467811184</td>\n",
       "      <td>Mon Apr 06 22:19:57 PDT 2009</td>\n",
       "      <td>NO_QUERY</td>\n",
       "      <td>ElleCTF</td>\n",
       "      <td>my whole body feels itchy and like its on fire</td>\n",
       "    </tr>\n",
       "    <tr>\n",
       "      <th>4</th>\n",
       "      <td>0</td>\n",
       "      <td>1467811193</td>\n",
       "      <td>Mon Apr 06 22:19:57 PDT 2009</td>\n",
       "      <td>NO_QUERY</td>\n",
       "      <td>Karoli</td>\n",
       "      <td>@nationwideclass no, it's not behaving at all....</td>\n",
       "    </tr>\n",
       "  </tbody>\n",
       "</table>\n",
       "</div>"
      ],
      "text/plain": [
       "   sentiment          id                          date     query  \\\n",
       "0          0  1467810369  Mon Apr 06 22:19:45 PDT 2009  NO_QUERY   \n",
       "1          0  1467810672  Mon Apr 06 22:19:49 PDT 2009  NO_QUERY   \n",
       "2          0  1467810917  Mon Apr 06 22:19:53 PDT 2009  NO_QUERY   \n",
       "3          0  1467811184  Mon Apr 06 22:19:57 PDT 2009  NO_QUERY   \n",
       "4          0  1467811193  Mon Apr 06 22:19:57 PDT 2009  NO_QUERY   \n",
       "\n",
       "              user                                               text  \n",
       "0  _TheSpecialOne_  @switchfoot http://twitpic.com/2y1zl - Awww, t...  \n",
       "1    scotthamilton  is upset that he can't update his Facebook by ...  \n",
       "2         mattycus  @Kenichan I dived many times for the ball. Man...  \n",
       "3          ElleCTF    my whole body feels itchy and like its on fire   \n",
       "4           Karoli  @nationwideclass no, it's not behaving at all....  "
      ]
     },
     "execution_count": 4,
     "metadata": {},
     "output_type": "execute_result"
    }
   ],
   "source": [
    "df.head()"
   ]
  },
  {
   "cell_type": "code",
   "execution_count": 5,
   "metadata": {},
   "outputs": [
    {
     "data": {
      "text/plain": [
       "query\n",
       "NO_QUERY    1600000\n",
       "Name: count, dtype: int64"
      ]
     },
     "execution_count": 5,
     "metadata": {},
     "output_type": "execute_result"
    }
   ],
   "source": [
    "# Vérifier les valeurs uniques dans la colonne 'query'\n",
    "df['query'].value_counts()"
   ]
  },
  {
   "cell_type": "code",
   "execution_count": 6,
   "metadata": {},
   "outputs": [
    {
     "data": {
      "text/plain": [
       "sentiment\n",
       "0    800000\n",
       "4    800000\n",
       "Name: count, dtype: int64"
      ]
     },
     "execution_count": 6,
     "metadata": {},
     "output_type": "execute_result"
    }
   ],
   "source": [
    "# Vérifier les valeurs uniques dans la colonne 'sentiment'\n",
    "df['sentiment'].value_counts()"
   ]
  },
  {
   "cell_type": "markdown",
   "metadata": {},
   "source": [
    "## 1.2. <a id='toc1_2_'></a>[Préparation de la Variable Cible (`sentiment`)](#toc0_)\n",
    "\n",
    "D'après la documentation du dataset sur Kaggle, la colonne `sentiment` représente la polarité du tweet avec les valeurs suivantes :\n",
    "- **0** : Sentiment négatif\n",
    "- **2** : Sentiment neutre\n",
    "- **4** : Sentiment positif\n",
    "\n",
    "Pour notre analyse de sentiment binaire, nous avons vérifié que la colonne `sentiment` ne contient pas de tweets neutres (valeur 2). Ainsi, nous avons décidé de :\n",
    "1. **Conserver uniquement les tweets négatifs et positifs**.\n",
    "2. **Convertir les tweets positifs (valeur 4) en 1**, pour obtenir une variable cible binaire avec les valeurs suivantes :\n",
    "   - **0** : Négatif\n",
    "   - **1** : Positif\n",
    "\n",
    "Cette transformation simplifie l'analyse en se concentrant uniquement sur les sentiments négatifs et positifs."
   ]
  },
  {
   "cell_type": "code",
   "execution_count": 7,
   "metadata": {},
   "outputs": [],
   "source": [
    "# Convertir 4 en 1 pour avoir un label binaire\n",
    "df['sentiment'] = df['sentiment'].replace({4: 1})"
   ]
  },
  {
   "cell_type": "code",
   "execution_count": 8,
   "metadata": {},
   "outputs": [
    {
     "data": {
      "image/png": "[encoded data removed]",
      "text/plain": [
       "<Figure size 600x400 with 1 Axes>"
      ]
     },
     "metadata": {},
     "output_type": "display_data"
    }
   ],
   "source": [
    "# Compter le nombre d'occurrences pour chaque classe de sentiment\n",
    "sentiment_counts = df['sentiment'].value_counts()\n",
    "\n",
    "# Créer un graphique à barres pour montrer la répartition des sentiments\n",
    "plt.figure(figsize=(6, 4))\n",
    "sentiment_counts.plot(kind='bar', color=['skyblue', 'salmon'])\n",
    "plt.title(\"Distribution of Sentiment Labels\")\n",
    "plt.xlabel(\"Sentiment\")\n",
    "plt.ylabel(\"Count\")\n",
    "plt.xticks(ticks=[0, 1], labels=[\"Negative (0)\", \"Positive (1)\"], rotation=0)\n",
    "plt.show()"
   ]
  },
  {
   "cell_type": "markdown",
   "metadata": {},
   "source": [
    "## 1.3. <a id='toc1_3_'></a>[Nettoyage des Tweets](#toc0_)\n",
    "\n",
    "Dans cette section, nous appliquons un **nettoyage approfondi** aux tweets pour enlever les éléments non pertinents et standardiser le texte. Les étapes de nettoyage incluent :\n",
    "\n",
    "- **Suppression des mentions `@pseudo`** : Pour éviter toute information nominative.\n",
    "- **Suppression des URLs** : Les liens web n'apportent pas d'informations utiles pour l'analyse de sentiment.\n",
    "- **Suppression des caractères spéciaux** : En enlevant les ponctuations inutiles mais en conservant les emojis, qui peuvent exprimer des émotions.\n",
    "- **Standardisation des espaces** : Les espaces multiples sont réduits à un seul espace, et les espaces en début et fin de texte sont supprimés.\n",
    "\n",
    "Le résultat est un texte simplifié, prêt pour les étapes de lemmatisation et de transformation en vecteurs."
   ]
  },
  {
   "cell_type": "code",
   "execution_count": 9,
   "metadata": {},
   "outputs": [],
   "source": [
    "def clean_tweet(text):\n",
    "    # Enlever les mentions @pseudo\n",
    "    text = re.sub(r'@\\w+', '', text)\n",
    "    # Enlever les liens web\n",
    "    text = re.sub(r'http\\S+', '', text)\n",
    "    # Enlever les caractères spéciaux et ponctuation (sauf les emojis)\n",
    "    text = re.sub(r'[^\\w\\s]', '', text)\n",
    "    # Supprimer les espaces superflus\n",
    "    text = re.sub(r'\\s+', ' ', text).strip()\n",
    "    return text\n",
    "\n",
    "# Appliquer le nettoyage sur la colonne 'text'\n",
    "df['text'] = df['text'].apply(clean_tweet)"
   ]
  },
  {
   "cell_type": "code",
   "execution_count": 10,
   "metadata": {},
   "outputs": [
    {
     "data": {
      "text/html": [
       "<div>\n",
       "<style scoped>\n",
       "    .dataframe tbody tr th:only-of-type {\n",
       "        vertical-align: middle;\n",
       "    }\n",
       "\n",
       "    .dataframe tbody tr th {\n",
       "        vertical-align: top;\n",
       "    }\n",
       "\n",
       "    .dataframe thead th {\n",
       "        text-align: right;\n",
       "    }\n",
       "</style>\n",
       "<table border=\"1\" class=\"dataframe\">\n",
       "  <thead>\n",
       "    <tr style=\"text-align: right;\">\n",
       "      <th></th>\n",
       "      <th>sentiment</th>\n",
       "      <th>id</th>\n",
       "      <th>date</th>\n",
       "      <th>query</th>\n",
       "      <th>user</th>\n",
       "      <th>text</th>\n",
       "    </tr>\n",
       "  </thead>\n",
       "  <tbody>\n",
       "    <tr>\n",
       "      <th>0</th>\n",
       "      <td>0</td>\n",
       "      <td>1467810369</td>\n",
       "      <td>Mon Apr 06 22:19:45 PDT 2009</td>\n",
       "      <td>NO_QUERY</td>\n",
       "      <td>_TheSpecialOne_</td>\n",
       "      <td>Awww thats a bummer You shoulda got David Carr...</td>\n",
       "    </tr>\n",
       "    <tr>\n",
       "      <th>1</th>\n",
       "      <td>0</td>\n",
       "      <td>1467810672</td>\n",
       "      <td>Mon Apr 06 22:19:49 PDT 2009</td>\n",
       "      <td>NO_QUERY</td>\n",
       "      <td>scotthamilton</td>\n",
       "      <td>is upset that he cant update his Facebook by t...</td>\n",
       "    </tr>\n",
       "    <tr>\n",
       "      <th>2</th>\n",
       "      <td>0</td>\n",
       "      <td>1467810917</td>\n",
       "      <td>Mon Apr 06 22:19:53 PDT 2009</td>\n",
       "      <td>NO_QUERY</td>\n",
       "      <td>mattycus</td>\n",
       "      <td>I dived many times for the ball Managed to sav...</td>\n",
       "    </tr>\n",
       "    <tr>\n",
       "      <th>3</th>\n",
       "      <td>0</td>\n",
       "      <td>1467811184</td>\n",
       "      <td>Mon Apr 06 22:19:57 PDT 2009</td>\n",
       "      <td>NO_QUERY</td>\n",
       "      <td>ElleCTF</td>\n",
       "      <td>my whole body feels itchy and like its on fire</td>\n",
       "    </tr>\n",
       "    <tr>\n",
       "      <th>4</th>\n",
       "      <td>0</td>\n",
       "      <td>1467811193</td>\n",
       "      <td>Mon Apr 06 22:19:57 PDT 2009</td>\n",
       "      <td>NO_QUERY</td>\n",
       "      <td>Karoli</td>\n",
       "      <td>no its not behaving at all im mad why am i her...</td>\n",
       "    </tr>\n",
       "    <tr>\n",
       "      <th>5</th>\n",
       "      <td>0</td>\n",
       "      <td>1467811372</td>\n",
       "      <td>Mon Apr 06 22:20:00 PDT 2009</td>\n",
       "      <td>NO_QUERY</td>\n",
       "      <td>joy_wolf</td>\n",
       "      <td>not the whole crew</td>\n",
       "    </tr>\n",
       "    <tr>\n",
       "      <th>6</th>\n",
       "      <td>0</td>\n",
       "      <td>1467811592</td>\n",
       "      <td>Mon Apr 06 22:20:03 PDT 2009</td>\n",
       "      <td>NO_QUERY</td>\n",
       "      <td>mybirch</td>\n",
       "      <td>Need a hug</td>\n",
       "    </tr>\n",
       "    <tr>\n",
       "      <th>7</th>\n",
       "      <td>0</td>\n",
       "      <td>1467811594</td>\n",
       "      <td>Mon Apr 06 22:20:03 PDT 2009</td>\n",
       "      <td>NO_QUERY</td>\n",
       "      <td>coZZ</td>\n",
       "      <td>hey long time no see Yes Rains a bit only a bi...</td>\n",
       "    </tr>\n",
       "    <tr>\n",
       "      <th>8</th>\n",
       "      <td>0</td>\n",
       "      <td>1467811795</td>\n",
       "      <td>Mon Apr 06 22:20:05 PDT 2009</td>\n",
       "      <td>NO_QUERY</td>\n",
       "      <td>2Hood4Hollywood</td>\n",
       "      <td>nope they didnt have it</td>\n",
       "    </tr>\n",
       "    <tr>\n",
       "      <th>9</th>\n",
       "      <td>0</td>\n",
       "      <td>1467812025</td>\n",
       "      <td>Mon Apr 06 22:20:09 PDT 2009</td>\n",
       "      <td>NO_QUERY</td>\n",
       "      <td>mimismo</td>\n",
       "      <td>que me muera</td>\n",
       "    </tr>\n",
       "  </tbody>\n",
       "</table>\n",
       "</div>"
      ],
      "text/plain": [
       "   sentiment          id                          date     query  \\\n",
       "0          0  1467810369  Mon Apr 06 22:19:45 PDT 2009  NO_QUERY   \n",
       "1          0  1467810672  Mon Apr 06 22:19:49 PDT 2009  NO_QUERY   \n",
       "2          0  1467810917  Mon Apr 06 22:19:53 PDT 2009  NO_QUERY   \n",
       "3          0  1467811184  Mon Apr 06 22:19:57 PDT 2009  NO_QUERY   \n",
       "4          0  1467811193  Mon Apr 06 22:19:57 PDT 2009  NO_QUERY   \n",
       "5          0  1467811372  Mon Apr 06 22:20:00 PDT 2009  NO_QUERY   \n",
       "6          0  1467811592  Mon Apr 06 22:20:03 PDT 2009  NO_QUERY   \n",
       "7          0  1467811594  Mon Apr 06 22:20:03 PDT 2009  NO_QUERY   \n",
       "8          0  1467811795  Mon Apr 06 22:20:05 PDT 2009  NO_QUERY   \n",
       "9          0  1467812025  Mon Apr 06 22:20:09 PDT 2009  NO_QUERY   \n",
       "\n",
       "              user                                               text  \n",
       "0  _TheSpecialOne_  Awww thats a bummer You shoulda got David Carr...  \n",
       "1    scotthamilton  is upset that he cant update his Facebook by t...  \n",
       "2         mattycus  I dived many times for the ball Managed to sav...  \n",
       "3          ElleCTF     my whole body feels itchy and like its on fire  \n",
       "4           Karoli  no its not behaving at all im mad why am i her...  \n",
       "5         joy_wolf                                 not the whole crew  \n",
       "6          mybirch                                         Need a hug  \n",
       "7             coZZ  hey long time no see Yes Rains a bit only a bi...  \n",
       "8  2Hood4Hollywood                            nope they didnt have it  \n",
       "9          mimismo                                       que me muera  "
      ]
     },
     "execution_count": 10,
     "metadata": {},
     "output_type": "execute_result"
    }
   ],
   "source": [
    "df.head(10)"
   ]
  },
  {
   "cell_type": "markdown",
   "metadata": {},
   "source": [
    "## 1.4. <a id='toc1_4_'></a>[Lemmatisation et Suppression des Stopwords](#toc0_)\n",
    "\n",
    "Cette section prépare les tweets pour qu'ils soient plus cohérents et plus significatifs en appliquant des étapes de traitement supplémentaires :\n",
    "\n",
    "- **Téléchargement des ressources NLTK** : Les stopwords et les ressources de lemmatisation sont chargés pour le prétraitement.\n",
    "- **Suppression des Stopwords** : Les mots très courants qui n’apportent pas d’information pour l’analyse de sentiment sont éliminés (comme \"the\", \"and\").\n",
    "- **Lemmatisation des mots** : Chaque mot est transformé en sa forme de base, ce qui permet de réduire les variantes grammaticales tout en conservant le sens.\n",
    "- **Gestion des Majuscules** : Les mots entièrement en majuscule sont conservés dans leur forme originale pour capturer une éventuelle intensité émotionnelle, tandis que les autres mots sont convertis en minuscule.\n",
    "\n",
    "Ces transformations permettent d'uniformiser le texte tout en préservant des nuances utiles pour l’analyse de sentiment."
   ]
  },
  {
   "cell_type": "code",
   "execution_count": 11,
   "metadata": {},
   "outputs": [
    {
     "name": "stderr",
     "output_type": "stream",
     "text": [
      "[nltk_data] Downloading package stopwords to\n",
      "[nltk_data]     C:\\Users\\black\\AppData\\Roaming\\nltk_data...\n",
      "[nltk_data]   Package stopwords is already up-to-date!\n",
      "[nltk_data] Downloading package wordnet to\n",
      "[nltk_data]     C:\\Users\\black\\AppData\\Roaming\\nltk_data...\n",
      "[nltk_data]   Package wordnet is already up-to-date!\n"
     ]
    }
   ],
   "source": [
    "# Télécharger les ressources nécessaires\n",
    "nltk.download('stopwords')\n",
    "nltk.download('wordnet')\n",
    "\n",
    "# Initialiser les outils\n",
    "stop_words = set(stopwords.words('english'))\n",
    "lemmatizer = WordNetLemmatizer()\n",
    "\n",
    "def preprocess_text(text):\n",
    "    # Vérifier si tout le tweet est en majuscule\n",
    "    if text.isupper():\n",
    "        # Mettre tout en minuscule si le tweet entier est en majuscule\n",
    "        text = text.lower()\n",
    "    else:\n",
    "        # Tokenizer le texte en mots\n",
    "        words = text.split()\n",
    "        \n",
    "        # Conserver les mots en majuscule, mettre les autres en minuscule et enlever les stopwords\n",
    "        # Appliquer la lemmatisation\n",
    "        words = [lemmatizer.lemmatize(word) if word.isupper() \n",
    "                 else lemmatizer.lemmatize(word.lower())\n",
    "                 for word in words if word.lower() not in stop_words]\n",
    "        \n",
    "        # Recréer le tweet à partir des mots traités\n",
    "        text = ' '.join(words)\n",
    "        \n",
    "    return text\n",
    "\n",
    "# Appliquer le prétraitement sur la colonne 'text'\n",
    "df['text'] = df['text'].apply(preprocess_text)"
   ]
  },
  {
   "cell_type": "code",
   "execution_count": 12,
   "metadata": {},
   "outputs": [
    {
     "data": {
      "text/plain": [
       "35417                           hahaha problem sometimes fun\n",
       "341628                                   morningswho need em\n",
       "100152                             never commented back post\n",
       "943141                         bdupis work ugh ready weekend\n",
       "681596                                  STILL havent replied\n",
       "1446428                                                 good\n",
       "788873                                  last dayof 7th grade\n",
       "1189025                     lot fun ill attempt call tonight\n",
       "988454       aawww knitsforneeds heart cant wait see sweater\n",
       "76721      one misspelled reference two crushed english m...\n",
       "Name: text, dtype: object"
      ]
     },
     "execution_count": 12,
     "metadata": {},
     "output_type": "execute_result"
    }
   ],
   "source": [
    "df['text'].sample(10)"
   ]
  },
  {
   "cell_type": "markdown",
   "metadata": {},
   "source": [
    "## 1.5. <a id='toc1_5_'></a>[Filtrage et Sauvegarde des Données Prétraitées](#toc0_)\n",
    "\n",
    "Avant de sauvegarder le dataset prétraité, nous filtrons les colonnes pour ne conserver que les informations nécessaires pour l'entraînement des modèles :\n",
    "\n",
    "- **`sentiment`** : La colonne cible, qui indique si le tweet est positif (1) ou négatif (0).\n",
    "- **`text`** : Le texte du tweet, nettoyé et prêt pour l'analyse de sentiment.\n",
    "\n",
    "En filtrant ces colonnes, nous allégeons le fichier final et facilitons son utilisation dans les notebooks de modélisation. Le dataset nettoyé est ensuite sauvegardé dans un fichier CSV pour une réutilisation facile."
   ]
  },
  {
   "cell_type": "code",
   "execution_count": 13,
   "metadata": {},
   "outputs": [],
   "source": [
    "# Filtrer pour ne garder que les colonnes nécessaires\n",
    "df = df[['sentiment', 'text']]\n",
    "\n",
    "# Sauvegarder le DataFrame prétraité dans un fichier CSV\n",
    "df.to_csv('data/processed_tweets.csv', index=False)"
   ]
  }
 ],
 "metadata": {
  "kernelspec": {
   "display_name": "projet_7_env",
   "language": "python",
   "name": "python3"
  },
  "language_info": {
   "codemirror_mode": {
    "name": "ipython",
    "version": 3
   },
   "file_extension": ".py",
   "mimetype": "text/x-python",
   "name": "python",
   "nbconvert_exporter": "python",
   "pygments_lexer": "ipython3",
   "version": "3.9.13"
  }
 },
 "nbformat": 4,
 "nbformat_minor": 2
}
