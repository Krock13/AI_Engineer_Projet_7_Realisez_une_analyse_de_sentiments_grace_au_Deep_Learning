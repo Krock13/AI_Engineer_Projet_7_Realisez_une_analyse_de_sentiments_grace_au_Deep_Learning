{
 "cells": [
  {
   "cell_type": "code",
   "execution_count": 1,
   "metadata": {},
   "outputs": [],
   "source": [
    "import mlflow.sklearn\n",
    "from sklearn.feature_extraction.text import TfidfVectorizer\n",
    "from sklearn.model_selection import train_test_split\n",
    "import pandas as pd"
   ]
  },
  {
   "cell_type": "code",
   "execution_count": 2,
   "metadata": {},
   "outputs": [
    {
     "name": "stdout",
     "output_type": "stream",
     "text": [
      "Modèle Logistic Regression chargé avec succès depuis MLFlow.\n"
     ]
    }
   ],
   "source": [
    "# Exemple de chemin pour un modèle enregistré dans MLFlow\n",
    "mlflow_model_path = \"mlruns/904868608763176366/5218ca16818042acab592be7d2b71bdb/artifacts/model\"\n",
    "\n",
    "# Charger le modèle\n",
    "model = mlflow.sklearn.load_model(mlflow_model_path)\n",
    "print(\"Modèle Logistic Regression chargé avec succès depuis MLFlow.\")"
   ]
  },
  {
   "cell_type": "code",
   "execution_count": 3,
   "metadata": {},
   "outputs": [],
   "source": [
    "# Charger les données\n",
    "df = pd.read_csv('data/processed_tweets.csv')\n",
    "X_text = df['text']\n",
    "y = df['sentiment']"
   ]
  },
  {
   "cell_type": "code",
   "execution_count": 4,
   "metadata": {},
   "outputs": [],
   "source": [
    "# Vectoriser les données avec TF-IDF\n",
    "vectorizer = TfidfVectorizer(max_features=5000)\n",
    "X_tfidf = vectorizer.fit_transform(X_text)\n",
    "\n",
    "# Diviser les données en jeu d'entraînement et de test\n",
    "_, X_test_tfidf, _, _ = train_test_split(X_tfidf, y, test_size=0.2, random_state=42)"
   ]
  },
  {
   "cell_type": "code",
   "execution_count": 7,
   "metadata": {},
   "outputs": [
    {
     "name": "stdout",
     "output_type": "stream",
     "text": [
      "Prédiction : [1]\n",
      "Probabilités : [[0.01467387 0.98532613]]\n"
     ]
    }
   ],
   "source": [
    "# Convertir un exemple pour tester\n",
    "test_vector = X_test_tfidf[0].toarray()  # Prendre le premier exemple\n",
    "prediction = model.predict(test_vector)\n",
    "prediction_proba = model.predict_proba(test_vector)\n",
    "\n",
    "# Afficher les résultats\n",
    "print(f\"Prédiction : {prediction}\")\n",
    "print(f\"Probabilités : {prediction_proba}\")"
   ]
  }
 ],
 "metadata": {
  "kernelspec": {
   "display_name": "projet_7_env",
   "language": "python",
   "name": "python3"
  },
  "language_info": {
   "codemirror_mode": {
    "name": "ipython",
    "version": 3
   },
   "file_extension": ".py",
   "mimetype": "text/x-python",
   "name": "python",
   "nbconvert_exporter": "python",
   "pygments_lexer": "ipython3",
   "version": "3.9.13"
  }
 },
 "nbformat": 4,
 "nbformat_minor": 2
}
